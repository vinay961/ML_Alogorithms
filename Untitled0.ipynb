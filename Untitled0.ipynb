{
  "nbformat": 4,
  "nbformat_minor": 0,
  "metadata": {
    "colab": {
      "provenance": []
    },
    "kernelspec": {
      "name": "python3",
      "display_name": "Python 3"
    },
    "language_info": {
      "name": "python"
    }
  },
  "cells": [
    {
      "cell_type": "code",
      "source": [
        "import numpy as np  # to deal with array\n",
        "import matplotlib.pyplot as pyplot  # to deal with graph\n",
        "import pandas as pd # to deal with data manipulation\n",
        "from sklearn.impute import SimpleImputer # for handling missing/not defined values\n",
        "from sklearn.preprocessing import LabelEncoder,StandardScaler,MinMaxScaler"
      ],
      "metadata": {
        "id": "_CGcsTMVFIHj"
      },
      "execution_count": 20,
      "outputs": []
    },
    {
      "cell_type": "code",
      "source": [
        "data = np.array([\n",
        "    [1,2,np.nan],\n",
        "    [4,np.nan,6],\n",
        "    [np.nan,8,9]\n",
        "])\n",
        "\n",
        "imputer = SimpleImputer(strategy='constant',fill_value=1)\n",
        "imputed_data = imputer.fit_transform(data)\n",
        "print(imputed_data)"
      ],
      "metadata": {
        "id": "ucoIG4DMGLuf",
        "colab": {
          "base_uri": "https://localhost:8080/"
        },
        "outputId": "e02cccd2-5c3b-4265-9476-8dcb950b8ea2"
      },
      "execution_count": 6,
      "outputs": [
        {
          "output_type": "stream",
          "name": "stdout",
          "text": [
            "[[1. 2. 1.]\n",
            " [4. 1. 6.]\n",
            " [1. 8. 9.]]\n"
          ]
        }
      ]
    },
    {
      "cell_type": "code",
      "source": [
        "data = {\n",
        "    \"Name\": [\"John\", \"Anna\", \"Jan\", \"Yashwani\"],\n",
        "    \"Age\": [28, np.nan, 22, 21],\n",
        "    \"Salary\": [30000, 40000, np.nan, 60000],\n",
        "    \"Purchased\": [\"Yes\", \"No\", \"Yes\", \"No\"]\n",
        "}\n",
        "df = pd.DataFrame(data)\n",
        "\n",
        "# Handle missing data\n",
        "Imputer = SimpleImputer(strategy=\"constant\", fill_value=1)\n",
        "df[\"Age\"] = Imputer.fit_transform(df[[\"Age\"]])\n",
        "df[\"Salary\"] = Imputer.fit_transform(df[[\"Salary\"]])\n",
        "print(\"Handle Missing data:\")\n",
        "print(df)\n",
        "\n",
        "# Encode Categorical data\n",
        "label_encoder = LabelEncoder()\n",
        "df[\"Purchased\"] = label_encoder.fit_transform(df[\"Purchased\"])\n",
        "print(\"After Encoding categorical data:\")\n",
        "print(df)\n",
        "\n",
        "# Scale numerical data\n",
        "scaler = StandardScaler()\n",
        "df[[\"Age\",\"Salary\"]] = scaler.fit_transform(df[[\"Age\",\"Salary\"]])\n",
        "print(\"After Scaling data:\")\n",
        "print(df)\n",
        "\n",
        "# Scale using MinMaxScaling Method\n",
        "mm_scaler = MinMaxScaler()\n",
        "df[[\"Age\",\"Salary\"]] = mm_scaler.fit_transform(df[[\"Age\",\"Salary\"]])\n",
        "print(\"After Scaling using MinMaxScaling:\")\n",
        "print(df)\n"
      ],
      "metadata": {
        "colab": {
          "base_uri": "https://localhost:8080/"
        },
        "id": "Z-1ftzGotMF2",
        "outputId": "5faba777-37c4-4ab0-98c1-1227439b4cf1"
      },
      "execution_count": 21,
      "outputs": [
        {
          "output_type": "stream",
          "name": "stdout",
          "text": [
            "Handle Missing data:\n",
            "       Name   Age   Salary Purchased\n",
            "0      John  28.0  30000.0       Yes\n",
            "1      Anna   1.0  40000.0        No\n",
            "2       Jan  22.0      1.0       Yes\n",
            "3  Yashwani  21.0  60000.0        No\n",
            "After Encoding categorical data:\n",
            "       Name   Age   Salary  Purchased\n",
            "0      John  28.0  30000.0          1\n",
            "1      Anna   1.0  40000.0          0\n",
            "2       Jan  22.0      1.0          1\n",
            "3  Yashwani  21.0  60000.0          0\n",
            "After Scaling data:\n",
            "       Name       Age    Salary  Purchased\n",
            "0      John  0.982946 -0.115484          1\n",
            "1      Anna -1.671009  0.346405          0\n",
            "2       Jan  0.393179 -1.501102          1\n",
            "3  Yashwani  0.294884  1.270181          0\n",
            "After Scaling using MinMaxScaling:\n",
            "       Name       Age    Salary  Purchased\n",
            "0      John  1.000000  0.499992          1\n",
            "1      Anna  0.000000  0.666661          0\n",
            "2       Jan  0.777778  0.000000          1\n",
            "3  Yashwani  0.740741  1.000000          0\n"
          ]
        }
      ]
    }
  ]
}